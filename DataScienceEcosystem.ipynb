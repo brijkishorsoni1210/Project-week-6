{
  "nbformat": 4,
  "nbformat_minor": 0,
  "metadata": {
    "colab": {
      "provenance": []
    },
    "kernelspec": {
      "name": "python3",
      "display_name": "Python 3"
    },
    "language_info": {
      "name": "python"
    }
  },
  "cells": [
    {
      "cell_type": "markdown",
      "source": [
        "# Data Science Tools and Ecosystem\n",
        "\n"
      ],
      "metadata": {
        "id": "7SQhgi5cJAfI"
      }
    },
    {
      "cell_type": "markdown",
      "source": [
        "In this notebook, Data Science Tools and Ecosystem are summarized.\n",
        "\n",
        "**Objectives:**\n",
        "\n",
        "*   List popular languages that Data Scientists use.\n",
        "*   List commonly used libraries used by Data Scientists.\n",
        "*   Comment on Data Science tools.\n",
        "\n",
        "\n",
        "\n",
        "\n"
      ],
      "metadata": {
        "id": "a-F_DP6SMlOx"
      }
    },
    {
      "cell_type": "markdown",
      "source": [
        "Some of the popular languages that Data Scientists use are:\n",
        "1.   R.\n",
        "2.   SQL.\n",
        "3.   Python.\n",
        "4.   Java.\n",
        "5.   Julia.\n",
        "6.   Scala.\n",
        "7.   JavaScript.\n",
        "8.   C/C++."
      ],
      "metadata": {
        "id": "C7kkLZRSM7UJ"
      }
    },
    {
      "cell_type": "markdown",
      "source": [
        "Some of the commonly used libraries used by Data Scientists include:\n",
        "\n",
        "1.   TensorFlow.\n",
        "1.   NumPy.\n",
        "1.   SciPy.\n",
        "1.   Pandas.\n",
        "1.   Matplotlib.\n",
        "2.   Keras.\n",
        "2.   SciKit-Learn.\n",
        "2.   PyTorch.\n",
        "2.   Scrapy.\n",
        "2.   BeautifulSoup.\n",
        "\n",
        "\n",
        "\n"
      ],
      "metadata": {
        "id": "uWiXAiOwNvPL"
      }
    },
    {
      "cell_type": "markdown",
      "source": [
        "|                   Data Science Tools                |\n",
        "|-----------------------------------------------------|\n",
        "|SAS. It is one of those data science tools which are specifically designed for statistical operation\t|\n",
        "|Apache Spark|\n",
        "|BigML|"
      ],
      "metadata": {
        "id": "FZaeSIycPZE5"
      }
    },
    {
      "cell_type": "markdown",
      "source": [
        "### Below are a few examples of evaluating arithmetic expressions in Python."
      ],
      "metadata": {
        "id": "uKnof2G2S3RX"
      }
    },
    {
      "cell_type": "code",
      "source": [
        "# This a simple arithmetic expression to mutiply then add integers\n",
        "(3*4)+5"
      ],
      "metadata": {
        "colab": {
          "base_uri": "https://localhost:8080/"
        },
        "id": "inN3qaq5TjTp",
        "outputId": "182cfa05-1a03-492c-fe62-b2f52fa45f11"
      },
      "execution_count": 2,
      "outputs": [
        {
          "output_type": "execute_result",
          "data": {
            "text/plain": [
              "17"
            ]
          },
          "metadata": {},
          "execution_count": 2
        }
      ]
    },
    {
      "cell_type": "code",
      "source": [
        "#This will convert 200 minutes to hours by diving by 60\n",
        "days = 0\n",
        "hours = 0\n",
        "mins = 0\n",
        "\n",
        "time = 200\n",
        "#days = time / 1440\n",
        "leftover_minutes = time % 1440\n",
        "hours = leftover_minutes / 60\n",
        "#mins = time - (days*1440) - (hours*60)\n",
        "print(str(days) + \" days, \" + str(hours) + \" hours, \" + str(mins) +  \" mins. \")"
      ],
      "metadata": {
        "colab": {
          "base_uri": "https://localhost:8080/"
        },
        "id": "YDtj4Dl3T0Is",
        "outputId": "2b672cd9-cdbc-4ffc-c3d4-67a2da3f38c4"
      },
      "execution_count": 4,
      "outputs": [
        {
          "output_type": "stream",
          "name": "stdout",
          "text": [
            "0 days, 3.3333333333333335 hours, 0 mins. \n"
          ]
        }
      ]
    },
    {
      "cell_type": "markdown",
      "source": [
        "**Objectives:**\n",
        "*   List popular languages that Data Scientists use.\n",
        "*   List commonly used libraries used by Data Scientists.\n",
        "*   Comment on Data Science tools."
      ],
      "metadata": {
        "id": "3lFzo1IuU6PT"
      }
    },
    {
      "cell_type": "markdown",
      "source": [
        "## Author:\n",
        "Brijkishor Soni"
      ],
      "metadata": {
        "id": "y1CTELwgWUqi"
      }
    },
    {
      "cell_type": "code",
      "source": [],
      "metadata": {
        "id": "GqJsX4B5W02J"
      },
      "execution_count": null,
      "outputs": []
    }
  ]
}